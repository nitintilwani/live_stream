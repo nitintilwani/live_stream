{
 "cells": [
  {
   "cell_type": "code",
   "execution_count": 1,
   "id": "challenging-conjunction",
   "metadata": {},
   "outputs": [],
   "source": [
    "import socket,cv2, pickle,struct, threading, imutils\n",
    "\n",
    "# create socket\n",
    "client_socket = socket.socket(socket.AF_INET,socket.SOCK_STREAM)\n",
    "host_ip = '192.168.43.195'\n",
    "port = 9999\n",
    "client_socket.connect((host_ip,port)) # a tuple\n",
    "\n",
    "        "
   ]
  },
  {
   "cell_type": "markdown",
   "id": "resistant-cause",
   "metadata": {},
   "source": [
    "**Receiving Video from Server**"
   ]
  },
  {
   "cell_type": "code",
   "execution_count": 2,
   "id": "needed-combine",
   "metadata": {},
   "outputs": [],
   "source": [
    "def recv():\n",
    "    data = b\"\"\n",
    "    payload_size = struct.calcsize(\"Q\")\n",
    "    while True:\n",
    "        while len(data) < payload_size:\n",
    "            packet = client_socket.recv(4*1024) # 4K\n",
    "            if not packet: break\n",
    "            data+=packet\n",
    "        packed_msg_size = data[:payload_size]\n",
    "        data = data[payload_size:]\n",
    "        msg_size = struct.unpack(\"Q\",packed_msg_size)[0]\n",
    "\n",
    "        while len(data) < msg_size:\n",
    "            data += client_socket.recv(4*1024)\n",
    "        frame_data = data[:msg_size]\n",
    "        data  = data[msg_size:]\n",
    "        frame = pickle.loads(frame_data)\n",
    "        cv2.imshow(\"Server to client video\",frame)\n",
    "        if cv2.waitKey(1)  == 13:\n",
    "            break\n",
    "    cv2.destroyAllWindows()\n",
    "    client_socket.close()"
   ]
  },
  {
   "cell_type": "markdown",
   "id": "close-petroleum",
   "metadata": {},
   "source": [
    "**Streaming Video to Server**"
   ]
  },
  {
   "cell_type": "code",
   "execution_count": 3,
   "id": "annoying-twenty",
   "metadata": {},
   "outputs": [],
   "source": [
    "def sendm():\n",
    "    if client_socket:\n",
    "        vid = cv2.VideoCapture(1)\n",
    "\n",
    "        while(vid.isOpened()):\n",
    "            try:\n",
    "                img,frame = vid.read()\n",
    "                frame = imutils.resize(frame,width=320)\n",
    "                a = pickle.dumps(frame)\n",
    "                message = struct.pack(\"Q\",len(a))+a\n",
    "                client_socket.sendall(message)\n",
    "            except ConnectionAbortedError:\n",
    "                vid.release()\n",
    "                client_socket.close()\n",
    "                break"
   ]
  },
  {
   "cell_type": "code",
   "execution_count": 4,
   "id": "adolescent-monitoring",
   "metadata": {},
   "outputs": [
    {
     "name": "stderr",
     "output_type": "stream",
     "text": [
      "Exception in thread Thread-6:\n",
      "Traceback (most recent call last):\n",
      "  File \"C:\\Users\\hp\\Anaconda3\\lib\\threading.py\", line 917, in _bootstrap_inner\n",
      "    self.run()\n",
      "  File \"C:\\Users\\hp\\Anaconda3\\lib\\threading.py\", line 865, in run\n",
      "    self._target(*self._args, **self._kwargs)\n",
      "  File \"<ipython-input-2-739b2f3d93a2>\", line 11, in recv\n",
      "    msg_size = struct.unpack(\"Q\",packed_msg_size)[0]\n",
      "struct.error: unpack requires a buffer of 8 bytes\n",
      "\n"
     ]
    }
   ],
   "source": [
    "t1=threading.Thread(target=recv)\n",
    "t1.start()\n",
    "t2=threading.Thread(target=sendm)\n",
    "t2.start()"
   ]
  },
  {
   "cell_type": "code",
   "execution_count": null,
   "id": "spatial-journal",
   "metadata": {},
   "outputs": [],
   "source": []
  }
 ],
 "metadata": {
  "kernelspec": {
   "display_name": "Python 3",
   "language": "python",
   "name": "python3"
  },
  "language_info": {
   "codemirror_mode": {
    "name": "ipython",
    "version": 3
   },
   "file_extension": ".py",
   "mimetype": "text/x-python",
   "name": "python",
   "nbconvert_exporter": "python",
   "pygments_lexer": "ipython3",
   "version": "3.7.3"
  }
 },
 "nbformat": 4,
 "nbformat_minor": 5
}
