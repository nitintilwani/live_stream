{
 "cells": [
  {
   "cell_type": "markdown",
   "id": "banned-biography",
   "metadata": {},
   "source": [
    "**Server**"
   ]
  },
  {
   "cell_type": "code",
   "execution_count": 1,
   "id": "urban-aside",
   "metadata": {},
   "outputs": [
    {
     "name": "stdout",
     "output_type": "stream",
     "text": [
      "LISTENING AT: ('', 9999)\n"
     ]
    }
   ],
   "source": [
    "import socket, cv2, pickle,struct,imutils, threading\n",
    "\n",
    "# Socket Create\n",
    "server_socket = socket.socket(socket.AF_INET,socket.SOCK_STREAM)\n",
    "\n",
    "host_name  = socket.gethostname()\n",
    "host_ip = \"\"\n",
    "\n",
    "port = 9999\n",
    "socket_address = (host_ip,port)\n",
    "\n",
    "# Socket Bind\n",
    "server_socket.bind(socket_address)\n",
    "\n",
    "# Socket Listen\n",
    "server_socket.listen(5)\n",
    "print(\"LISTENING AT:\",socket_address)\n",
    "\n",
    "\n",
    "        "
   ]
  },
  {
   "cell_type": "markdown",
   "id": "hindu-spell",
   "metadata": {},
   "source": [
    "**Streaming Video to Client**"
   ]
  },
  {
   "cell_type": "code",
   "execution_count": 2,
   "id": "offensive-unknown",
   "metadata": {},
   "outputs": [],
   "source": [
    "def send(client_socket,addr):\n",
    "        print('GOT CONNECTION FROM:',addr)\n",
    "        if client_socket:\n",
    "            vid = cv2.VideoCapture(0)\n",
    "\n",
    "            while(vid.isOpened()):\n",
    "                try:\n",
    "                    img,frame = vid.read()\n",
    "                    frame = imutils.resize(frame,width=320)\n",
    "                    a = pickle.dumps(frame)\n",
    "                    message = struct.pack(\"Q\",len(a))+a\n",
    "                    client_socket.sendall(message)\n",
    "                except ConnectionAbortedError:\n",
    "                    vid.release()\n",
    "                    client_socket.close()\n",
    "                    break"
   ]
  },
  {
   "cell_type": "markdown",
   "id": "worthy-economics",
   "metadata": {},
   "source": [
    "**Receiving Video from Client**"
   ]
  },
  {
   "cell_type": "code",
   "execution_count": 3,
   "id": "turkish-bleeding",
   "metadata": {},
   "outputs": [],
   "source": [
    "def recv():\n",
    "    data = b\"\"\n",
    "    payload_size = struct.calcsize(\"Q\")\n",
    "    while True:\n",
    "        while len(data) < payload_size:\n",
    "            packet = client_socket.recv(4*1024) # 4K\n",
    "            if not packet: break\n",
    "            data+=packet\n",
    "        packed_msg_size = data[:payload_size]\n",
    "        data = data[payload_size:]\n",
    "        msg_size = struct.unpack(\"Q\",packed_msg_size)[0]\n",
    "\n",
    "        while len(data) < msg_size:\n",
    "            data += client_socket.recv(4*1024)\n",
    "        frame_data = data[:msg_size]\n",
    "        data  = data[msg_size:]\n",
    "        frame = pickle.loads(frame_data)\n",
    "        cv2.imshow(\"Client to server video\",frame)\n",
    "        if cv2.waitKey(1)  == 13:\n",
    "            break\n",
    "    cv2.destroyAllWindows()\n",
    "    client_socket.close()\n",
    "                    \n"
   ]
  },
  {
   "cell_type": "code",
   "execution_count": null,
   "id": "departmental-syndrome",
   "metadata": {},
   "outputs": [
    {
     "name": "stdout",
     "output_type": "stream",
     "text": [
      "GOT CONNECTION FROM: ('192.168.43.195', 59584)\n"
     ]
    },
    {
     "name": "stderr",
     "output_type": "stream",
     "text": [
      "Exception in thread Thread-7:\n",
      "Traceback (most recent call last):\n",
      "  File \"C:\\Users\\hp\\Anaconda3\\lib\\threading.py\", line 917, in _bootstrap_inner\n",
      "    self.run()\n",
      "  File \"C:\\Users\\hp\\Anaconda3\\lib\\threading.py\", line 865, in run\n",
      "    self._target(*self._args, **self._kwargs)\n",
      "  File \"<ipython-input-2-17d78f110390>\", line 12, in send\n",
      "    client_socket.sendall(message)\n",
      "OSError: [WinError 10038] An operation was attempted on something that is not a socket\n",
      "\n"
     ]
    }
   ],
   "source": [
    "while True:\n",
    "    client_socket,addr = server_socket.accept()\n",
    "        \n",
    "    if client_socket:\n",
    "        t2=threading.Thread(target=recv)\n",
    "        t2.start()\n",
    "        t1=threading.Thread(target=send, args=(client_socket, addr))\n",
    "        t1.start()\n",
    "        \n"
   ]
  },
  {
   "cell_type": "code",
   "execution_count": null,
   "id": "seventh-threat",
   "metadata": {},
   "outputs": [],
   "source": []
  }
 ],
 "metadata": {
  "kernelspec": {
   "display_name": "Python 3",
   "language": "python",
   "name": "python3"
  },
  "language_info": {
   "codemirror_mode": {
    "name": "ipython",
    "version": 3
   },
   "file_extension": ".py",
   "mimetype": "text/x-python",
   "name": "python",
   "nbconvert_exporter": "python",
   "pygments_lexer": "ipython3",
   "version": "3.7.3"
  }
 },
 "nbformat": 4,
 "nbformat_minor": 5
}
